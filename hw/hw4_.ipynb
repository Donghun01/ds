{
 "cells": [
  {
   "cell_type": "code",
   "execution_count": 41,
   "id": "046076fb-96c9-4951-a94e-9ff4f208f953",
   "metadata": {},
   "outputs": [],
   "source": [
    "month = ['쌍', '쇠', '복', '돌', '팽', '육', '쌍', '개', '칠', '갑', '삼', '방']"
   ]
  },
  {
   "cell_type": "code",
   "execution_count": 42,
   "id": "24c3e11d-c797-4735-8e85-0ef02f78c302",
   "metadata": {},
   "outputs": [],
   "source": [
    "day = ['봉', '구', '욕', '포', '똥', '삼', '식', '석', '놈', '님', '년', '돌', '단', '득', '방', '질', '장', '걸', '래', '룡', '동', '순', '자', '박', '창', '언', '것', '포', '만', '단', '국']"
   ]
  },
  {
   "cell_type": "code",
   "execution_count": 43,
   "id": "7d4d4f4f-2985-43b6-bba8-bd7e3b6e33da",
   "metadata": {},
   "outputs": [],
   "source": [
    "def get_my_chosun_name(val_1 ='성', val_2=1, val_3=1):\n",
    "    val_2 = month[val_2 -1]\n",
    "    val_3 = day[val_3 - 1]\n",
    "    print(\"당신의 조선시대 이름은 %s%s%s 입니다\" %(val_1, val_2, val_3))"
   ]
  },
  {
   "cell_type": "code",
   "execution_count": 45,
   "id": "1a810ee7-b965-40d7-8943-cc8bfd343b5b",
   "metadata": {},
   "outputs": [
    {
     "name": "stdout",
     "output_type": "stream",
     "text": [
      "당신의 조선시대 이름은 강갑단 입니다\n"
     ]
    }
   ],
   "source": [
    "get_my_chosun_name('강', 10, 30)"
   ]
  }
 ],
 "metadata": {
  "kernelspec": {
   "display_name": "Python 3 (ipykernel)",
   "language": "python",
   "name": "python3"
  },
  "language_info": {
   "codemirror_mode": {
    "name": "ipython",
    "version": 3
   },
   "file_extension": ".py",
   "mimetype": "text/x-python",
   "name": "python",
   "nbconvert_exporter": "python",
   "pygments_lexer": "ipython3",
   "version": "3.10.9"
  }
 },
 "nbformat": 4,
 "nbformat_minor": 5
}
